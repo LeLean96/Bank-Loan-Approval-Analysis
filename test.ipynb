{
 "cells": [
  {
   "cell_type": "markdown",
   "metadata": {},
   "source": [
    "# Data preparation"
   ]
  },
  {
   "cell_type": "markdown",
   "metadata": {},
   "source": [
    "## Read csv file"
   ]
  },
  {
   "cell_type": "code",
   "execution_count": null,
   "metadata": {},
   "outputs": [],
   "source": [
    "import pandas as pd\n",
    "\n",
    "df = pd.read_csv('assignment/loan_data_set.csv')\n",
    "df.info()"
   ]
  },
  {
   "cell_type": "markdown",
   "metadata": {},
   "source": [
    "## Fill empty cells"
   ]
  },
  {
   "cell_type": "code",
   "execution_count": null,
   "metadata": {},
   "outputs": [],
   "source": [
    "fillna_mapping = {\n",
    "    'LoanAmount': df['LoanAmount'].mean(skipna=True),\n",
    "    'Gender': df['Gender'].mode(dropna=True).iloc[0],\n",
    "    'Married': df['Married'].mode(dropna=True).iloc[0],\n",
    "    'Dependents': df['Dependents'].mode(dropna=True).iloc[0],\n",
    "    'Education': df['Education'].mode(dropna=True).iloc[0],\n",
    "    'Self_Employed': df['Self_Employed'].mode(dropna=True).iloc[0],\n",
    "    'ApplicantIncome': df['ApplicantIncome'].mode(dropna=True).iloc[0],\n",
    "    'CoapplicantIncome': df['CoapplicantIncome'].mode(dropna=True).iloc[0],\n",
    "    'Credit_History': df['Credit_History'].mode(dropna=True).iloc[0],\n",
    "    'Loan_Amount_Term': df['Loan_Amount_Term'].mode(dropna=True).iloc[0],\n",
    "}\n",
    "df.fillna(fillna_mapping, inplace=True)\n",
    "df.info()"
   ]
  },
  {
   "cell_type": "markdown",
   "metadata": {},
   "source": [
    "## Encode labels"
   ]
  },
  {
   "cell_type": "code",
   "execution_count": null,
   "metadata": {},
   "outputs": [],
   "source": [
    "label_mapping = {\n",
    "    'Male': 0,\n",
    "    'Female': 1,\n",
    "    'No': 0,\n",
    "    'Yes': 1,\n",
    "    '0': 0,\n",
    "    '1': 1,\n",
    "    '2': 2,\n",
    "    '3+': 3,\n",
    "    'Not Graduate': 0,\n",
    "    'Graduate': 1,\n",
    "    'N': 0,\n",
    "    'Y': 1,\n",
    "}\n",
    "df.replace(label_mapping, inplace=True)\n",
    "# cast ApplicantIncome column to float\n",
    "df['ApplicantIncome'] = df['ApplicantIncome'].astype(float)\n",
    "df.info()"
   ]
  },
  {
   "cell_type": "markdown",
   "metadata": {},
   "source": [
    "## Drop Loan_ID column"
   ]
  },
  {
   "cell_type": "code",
   "execution_count": null,
   "metadata": {},
   "outputs": [],
   "source": [
    "df.drop('Loan_ID', axis='columns', inplace=True)\n",
    "df.info()"
   ]
  }
 ],
 "metadata": {
  "kernelspec": {
   "display_name": "Python 3.10.6 ('.venv': venv)",
   "language": "python",
   "name": "python3"
  },
  "language_info": {
   "codemirror_mode": {
    "name": "ipython",
    "version": 3
   },
   "file_extension": ".py",
   "mimetype": "text/x-python",
   "name": "python",
   "nbconvert_exporter": "python",
   "pygments_lexer": "ipython3",
   "version": "3.10.6"
  },
  "orig_nbformat": 4,
  "vscode": {
   "interpreter": {
    "hash": "dc7f257c0b8adbd0b56b4d474c1123b1833bb59202044f69f8b30c2e4e8e71e3"
   }
  }
 },
 "nbformat": 4,
 "nbformat_minor": 2
}
